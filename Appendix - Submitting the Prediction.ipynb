{
 "metadata": {
  "name": "",
  "signature": "sha256:8684ec894ba63ee4d71b2000cb5e5c48119109cbdc1510db1a3cf489f5e8e17d"
 },
 "nbformat": 3,
 "nbformat_minor": 0,
 "worksheets": [
  {
   "cells": [
    {
     "cell_type": "markdown",
     "metadata": {},
     "source": [
      "Now that the two pieces of the puzzle are complete - predicting which houses own EVs, and predicting when those houses are charging - it's possible to submit predictions for the test data.\n",
      "The approach is simple - first use the auto-generated 2D KNN classifier to pick out which houses own EVs, then use a trained Markov Model to compute probabilities of charging at each timestep for the houses which are reported to own EVs.\n",
      "All the data in the training files will be used to train the classifiers and Markov Model, while the uncertainties will be estimated using the results from earlier.\n",
      "It is assumed the usages in the test files follow the same distribution as the usages in the train files.\n",
      "\n",
      "The expected accuracy of the submission is given by the accuracies found in parts II and III.  \n",
      "The accuracy of which houses own EVs is given in part III, which is 84% (unc of 2%).  \n",
      "The accuracy of when a house is charging is given in part II, which is 95.56% (unc of .04%)."
     ]
    },
    {
     "cell_type": "code",
     "collapsed": false,
     "input": [
      "%matplotlib inline\n",
      "\n",
      "%load_ext autoreload\n",
      "%autoreload\n",
      "\n",
      "import pandas as pd\n",
      "import matplotlib as mpl\n",
      "import matplotlib.pyplot as pl\n",
      "import matplotlib.colors as colors\n",
      "import numpy as np\n",
      "import scipy\n",
      "import scipy.stats as stats\n",
      "import scipy.stats.mstats as mstats\n",
      "import scipy.interpolate as interpolate\n",
      "import sklearn.neighbors as neighbors\n",
      "import sklearn\n",
      "import random\n",
      "\n",
      "import util\n",
      "import markov\n",
      "\n",
      "\n",
      "train_usages = pd.read_csv('./data/EV_train.csv', index_col='House ID').transpose().dropna()\n",
      "train_when_charging = pd.read_csv('./data/EV_train_labels.csv', index_col='House ID').transpose()[0:len(train_usages.index)]\n",
      "test_usages = pd.read_csv('./data/EV_test.csv', index_col='House ID').transpose()\n",
      "\n",
      "\n",
      "\n",
      "train_usages.index = range(len(train_usages.index))\n",
      "train_when_charging.index = range(len(train_when_charging.index))\n",
      "\n",
      "original_index = test_usages.index\n",
      "test_usages.index = range(len(test_usages.index))\n",
      "\n",
      "train_houses = train_usages.columns\n",
      "test_houses = test_usages.columns"
     ],
     "language": "python",
     "metadata": {},
     "outputs": [],
     "prompt_number": 1
    },
    {
     "cell_type": "code",
     "collapsed": false,
     "input": [
      "train_derivatives = util.derivatives(train_usages)\n",
      "\n",
      "normed_train_usages = util.normalize_usages(train_usages)\n",
      "normed_train_derivatives = util.derivatives(normed_train_usages)\n",
      "\n",
      "train_house_stats = pd.DataFrame(index = train_houses)\n",
      "train_house_stats['owns_ev'] = train_when_charging.sum() > 0\n",
      "train_house_stats['d1_k5'] = train_derivatives[1].apply(np.abs).apply(lambda x: np.power(x, 5)).apply(np.average).apply(lambda x: np.power(x, 1.0/5.0))"
     ],
     "language": "python",
     "metadata": {},
     "outputs": [],
     "prompt_number": 2
    },
    {
     "cell_type": "code",
     "collapsed": false,
     "input": [
      "test_derivatives = util.derivatives(test_usages.dropna())\n",
      "\n",
      "normed_test_usages = util.normalize_usages(test_usages.dropna())\n",
      "normed_test_derivatives = util.derivatives(normed_test_usages)\n",
      "\n",
      "test_house_stats = pd.DataFrame(index = test_houses)\n",
      "test_house_stats['d1_k5'] = test_derivatives[1].apply(np.abs).apply(lambda x: np.power(x, 5)).apply(np.average).apply(lambda x: np.power(x, 1.0/5.0))"
     ],
     "language": "python",
     "metadata": {},
     "outputs": [],
     "prompt_number": 3
    },
    {
     "cell_type": "code",
     "collapsed": false,
     "input": [
      "from sklearn.neighbors import KNeighborsClassifier\n",
      "\n",
      "train_X = train_house_stats['d1_k5'].values\n",
      "train_y = train_house_stats['owns_ev']\n",
      "\n",
      "clf = KNeighborsClassifier()\n",
      "clf.fit(np.array([train_X]).T,train_y)\n",
      "\n",
      "test_X = test_house_stats['d1_k5'].values\n",
      "test_y = clf.predict(np.array([test_X]).T)\n",
      "owns_ev_pred = pd.Series(test_y.astype('int'), index=test_usages.columns).astype('float')"
     ],
     "language": "python",
     "metadata": {},
     "outputs": [],
     "prompt_number": 4
    },
    {
     "cell_type": "code",
     "collapsed": false,
     "input": [
      "train_with_ev = train_houses[train_when_charging.sum() > 0]\n",
      "m = markov.EVMarkovModel(train_usages[train_with_ev], train_when_charging[train_with_ev])"
     ],
     "language": "python",
     "metadata": {},
     "outputs": [],
     "prompt_number": 5
    },
    {
     "cell_type": "code",
     "collapsed": false,
     "input": [
      "m.train(train_with_ev)"
     ],
     "language": "python",
     "metadata": {},
     "outputs": [],
     "prompt_number": 6
    },
    {
     "cell_type": "code",
     "collapsed": false,
     "input": [
      "test_with_ev = owns_ev_pred[owns_ev_pred > 0].index"
     ],
     "language": "python",
     "metadata": {},
     "outputs": [],
     "prompt_number": 7
    },
    {
     "cell_type": "code",
     "collapsed": false,
     "input": [
      "when_charging_prob  = pd.DataFrame(0, index=test_usages.index, columns = test_usages.columns)\n",
      "for i,house in enumerate(test_with_ev):\n",
      "    #print \"house %i out of %i\" % (i+1, len(test_with_ev))\n",
      "    when_charging_prob[house] = m.run_usage(test_usages[house])"
     ],
     "language": "python",
     "metadata": {},
     "outputs": [],
     "prompt_number": 8
    },
    {
     "cell_type": "code",
     "collapsed": false,
     "input": [
      "when_charging_prob.index = original_index\n",
      "when_charging_prob.T.to_csv('./data/submission.csv')"
     ],
     "language": "python",
     "metadata": {},
     "outputs": [],
     "prompt_number": 9
    }
   ],
   "metadata": {}
  }
 ]
}